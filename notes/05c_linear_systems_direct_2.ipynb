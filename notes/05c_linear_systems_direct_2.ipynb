{
 "cells": [
  {
   "cell_type": "markdown",
   "metadata": {},
   "source": [
    "# Direct methods for solving linear systems (homework)\n"
   ]
  },
  {
   "cell_type": "markdown",
   "metadata": {},
   "source": [
    "**Exercise 1.** Let us consider the linear system $A\\mathbf{x} = \\mathbf{b}$ where\n",
    "$$\n",
    "  A = \n",
    "  \\begin{bmatrix}\n",
    "  \\epsilon & 1 & 2\\\\\n",
    "  1 & 3 & 1 \\\\\n",
    "  2 & 1 & 3 \\\\\n",
    "  \\end{bmatrix}.\n",
    "$$\n",
    "\n",
    "1. Find the range of values of $\\epsilon \\in \\mathbb{R}$ such that the matrix $A$ is symmetric and positive definite.\n",
    "**Suggestion**: use the *Sylvester's criterion* which states that  a symmetric matrix $A \\in \\mathbb{R}^{n \\times n}$ is positive definite if and only if all the main minors (The main minors of $A \\in \\mathbb{R}^{n \\times n}$ are the determinants of the submatrices $A_p = (a_{i,j})_{1 \\leq i, j \\leq p}$, $p = 1, ..., n$). of $A$ are positive.\n",
    "2. What factorization is more suitable for solving the linear system $A\\mathbf{x}=\\mathbf{b}$ for the case $\\epsilon=0$? Motivate the answer.\n",
    "3. Compute the Cholesky factorization $A = R^T R$ for the case $\\epsilon = 2$.\n",
    "4. Given $\\mathbf{b} = (1,1,1)^T$, solve the linear system by using the Cholesky factorization computed at the previous point.\n",
    "\n"
   ]
  },
  {
   "cell_type": "markdown",
   "metadata": {},
   "source": [
    "**Exercise 2.** Let us consider the following matrix $A \\in \\mathbb R^{3 \\times 3}$ depending on the parameter $\\epsilon \\in \\mathbb R$:\n",
    "$$\n",
    "A =\n",
    "\\begin{bmatrix}\n",
    "1 & \\epsilon & -1 \\\\\n",
    "\\epsilon & \\frac{35}3 & 1 \\\\\n",
    "-1 & \\epsilon & 2 \\\\\n",
    "\\end{bmatrix}.\n",
    "$$\n",
    "\n",
    "\n",
    "\n",
    "1. Calculate the values of the parameter $\\epsilon \\in \\mathbb R$ for which the matrix $A$ is invertible (non singular).\n",
    "\n",
    "2. Calculate the Gauss factorization $LU$ of the matrix $A$ (when non singular) for a generic value of the parameter $\\epsilon \\in \\mathbb R$.\n",
    "\n",
    "3. Calculate the values of the parameter $\\epsilon \\in \\mathbb R$ for which the Gauss factorization $LU$ of the matrix $A$  (when non singular) exists and is unique.\n",
    "\n",
    "4. Set $\\epsilon = \\sqrt{\\frac{35}3}$ and use the pivoting technique to calculate the Gauss factorization $LU$ of the matrix $A$.\n",
    "\n",
    "5. For $\\epsilon=1$, the matrix $A$ is symmetric and positive definite. Calculate the corresponding Cholesky factorization of the matrix $A$, i.e. the upper triangular matrix with positive elements on the diagonal, say $R$, for which $A = R^T R$."
   ]
  },
  {
   "cell_type": "markdown",
   "metadata": {},
   "source": [
    "**Exercise 1.**\n",
    "$$\n",
    "  A = \n",
    "  \\begin{bmatrix}\n",
    "  \\epsilon & 1 & 2\\\\\n",
    "  1 & 3 & 1 \\\\\n",
    "  2 & 1 & 3 \\\\\n",
    "  \\end{bmatrix}.\n",
    "$$\n",
    "1)\n",
    "\n",
    "$$\n",
    "  det(A_1) = det(\\begin{bmatrix}\n",
    "  \\epsilon\n",
    "  \\end{bmatrix}) = \\epsilon > 0\n",
    "$$\n",
    "\n",
    "$$\n",
    "  det(A_2) = det(\\begin{bmatrix}\n",
    "  \\epsilon & 1\\\\\n",
    "  1 & 3 \n",
    "  \\end{bmatrix})=3\\epsilon-1>0\n",
    "$$\n",
    "$$\n",
    "  \\epsilon>1/3\n",
    "$$\n",
    "\n",
    "$$\n",
    "  det(A) = \\epsilon*(9-1)-1*(3-2)+2*(1-6)>0\n",
    " $$\n",
    " $$\n",
    "  8\\epsilon>1+10\n",
    "$$\n",
    "$$\n",
    "  \\epsilon>11/8\n",
    "$$\n",
    "\n",
    "A is symmetric and positive definite for $$\\epsilon > max(0,1/3,11/8)=11/8$$"
   ]
  },
  {
   "cell_type": "markdown",
   "metadata": {},
   "source": [
    "2) For for the case $\\epsilon=0$ A is not symmetric and positive definite, for solving the linear system $A\\mathbf{x}=\\mathbf{b}$ Gauss factorization LU is more suitable because Cholesky factorization can not be used."
   ]
  },
  {
   "cell_type": "code",
   "execution_count": 176,
   "metadata": {},
   "outputs": [
    {
     "name": "stdout",
     "output_type": "stream",
     "text": [
      "[[ 2.  1.  2.]\n",
      " [ 1.  3.  1.]\n",
      " [ 2.  1.  3.]]\n",
      "[[ 2.  1.  2.]\n",
      " [ 1.  3.  1.]\n",
      " [ 2.  1.  3.]]\n"
     ]
    }
   ],
   "source": [
    "%matplotlib inline\n",
    "A=matrix([[2.,1.,2.],[1.,3.,1.],[2.,1.,3.]])\n",
    "\n",
    "def cholesky(A):\n",
    "    A = A.copy()\n",
    "    N = len(A)\n",
    "    for k in range(N-1):\n",
    "        A[k,k] = sqrt(A[k,k])\n",
    "        A[k+1:N,k] = A[k+1:N,k]/A[k,k]\n",
    "        \n",
    "        for j in range(k+1,N):\n",
    "            A[j:N,j] = A[j:N,j] - A[j:N,k]*A[j,k]\n",
    "    \n",
    "    A[-1,-1] = sqrt(A[-1,-1])\n",
    "    L=tril(A)\n",
    "    return L.T\n",
    "\n",
    "print(A)\n",
    "R=cholesky(A)\n",
    "print(dot(R.T,R))\n"
   ]
  },
  {
   "cell_type": "code",
   "execution_count": 173,
   "metadata": {},
   "outputs": [
    {
     "name": "stdout",
     "output_type": "stream",
     "text": [
      "[1.0, 1.0, 1.0]\n",
      "[  4.00000000e-01   2.00000000e-01   2.22044605e-16]\n",
      "[[ 0.76568542  0.59907048  0.56568542]]\n"
     ]
    }
   ],
   "source": [
    "def L_solve(L,rhs):\n",
    "    x = zeros_like(rhs)\n",
    "    N = len(L)\n",
    "        \n",
    "    x[0] = rhs[0]/L[0,0]\n",
    "    for i in range(1,N):\n",
    "        x[i] = (rhs[i] - dot(L[i, 0:i], x[0:i]))/L[i,i]\n",
    "    \n",
    "    return x\n",
    "\n",
    "def U_solve(U,rhs):\n",
    "    x = zeros_like(rhs)\n",
    "    N=len(U)\n",
    "            \n",
    "    x[-1] = rhs[-1]/U[-1,-1]\n",
    "    for i in reversed(range(N-1)):\n",
    "        x[i] = (rhs[i] -dot(U[i, i+1 : N-1], x[i+1 : N-1]))/U[i,i]\n",
    "        \n",
    "    return x\n",
    "\n",
    "b=[1.,1.,1.]\n",
    "y = L_solve(R.T,b)\n",
    "u = U_solve(R,y)\n",
    "print(b)\n",
    "print(u)\n",
    "print(dot(A,u))"
   ]
  },
  {
   "cell_type": "code",
   "execution_count": 182,
   "metadata": {},
   "outputs": [
    {
     "name": "stdout",
     "output_type": "stream",
     "text": [
      "('1) A invertible for epsilon not in: ', [-2.33333333333333, 1.66666666666667])\n",
      "('A = ', Matrix([\n",
      "[  1,              eps, -1],\n",
      "[eps, 11.6666666666667,  1],\n",
      "[ -1,              eps,  2]]))\n",
      "('2) L * U = ', array([[1.00000000000000, 1.0*eps, -1.00000000000000],\n",
      "       [eps, 11.6666666666667, 1.00000000000000],\n",
      "       [-1.00000000000000, eps, 2.00000000000000]], dtype=object))\n",
      "('4) for epsilon=sqrt(35/3), L * U = ', Matrix([\n",
      "[             1.0, 3.41565025531987, -1.0],\n",
      "[3.41565025531987, 11.6666666666667,  1.0],\n",
      "[              -1, 3.41565025531987,    0]]))\n",
      "('5) R upper triangular matrix from cholesky decomposition for epsilon = 1: ', Matrix([\n",
      "[1,               1,                -1],\n",
      "[0, 3.2659863237109, 0.612372435695794],\n",
      "[0,               0, 0.790569415042095]]))\n",
      "('R.T * R = ', Matrix([\n",
      "[ 1,                1,  -1],\n",
      "[ 1, 11.6666666666667, 1.0],\n",
      "[-1,              1.0, 2.0]]))\n"
     ]
    }
   ],
   "source": [
    "import sympy\n",
    "eps = sympy.Symbol('eps')\n",
    "A=[[1, eps, -1], [eps, 35./3, 1], [-1, eps, 2]]\n",
    "A = sympy.Matrix(A)\n",
    "print(\"1) A invertible for epsilon not in: \", sympy.solve(A.det()))\n",
    "\n",
    "def LU(A):\n",
    "    A = A[:,:]\n",
    "    N=A.rows\n",
    "    for k in range(N-1):\n",
    "        #if (abs(A[k,k]) < 1e-15):\n",
    "            #raise RuntimeError(\"Null pivot\")\n",
    "            \n",
    "        A[k+1:N,k] /= A[k,k]\n",
    "        for j in range(k+1,N):\n",
    "            A[k+1:N,j] -= A[k+1:N,k]*A[k,j]\n",
    "    \n",
    "    L=tril(A)\n",
    "    for i in range(N):\n",
    "        L[i,i]=1.0\n",
    "    U = triu(A)\n",
    "    return L, U\n",
    "\n",
    "\n",
    "L, U = LU(A)\n",
    "print(\"A = \", A)\n",
    "print(\"2) L * U = \", dot(L,U))\n",
    "\n",
    "\n",
    "l=sympy.Matrix(L).subs({eps:sqrt(35./3)})\n",
    "u=sympy.Matrix(U).subs({eps:sqrt(35./3)})\n",
    "print(\"4) for epsilon=sqrt(35/3), L * U = \", l*u)\n",
    "\n",
    "AS=A.subs({eps:1})\n",
    "R=AS.cholesky().T\n",
    "print(\"5) R upper triangular matrix from cholesky decomposition for epsilon = 1: \",R)\n",
    "print(\"R.T * R = \", R.T*R)\n"
   ]
  },
  {
   "cell_type": "code",
   "execution_count": null,
   "metadata": {
    "collapsed": true
   },
   "outputs": [],
   "source": []
  }
 ],
 "metadata": {
  "anaconda-cloud": {},
  "kernelspec": {
   "display_name": "Python 3",
   "language": "python",
   "name": "python3"
  },
  "language_info": {
   "codemirror_mode": {
    "name": "ipython",
    "version": 2
   },
   "file_extension": ".py",
   "mimetype": "text/x-python",
   "name": "python",
   "nbconvert_exporter": "python",
   "pygments_lexer": "ipython2",
   "version": "2.7.14"
  }
 },
 "nbformat": 4,
 "nbformat_minor": 1
}
